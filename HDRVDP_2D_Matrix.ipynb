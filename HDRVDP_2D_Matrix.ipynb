{
 "cells": [
  {
   "cell_type": "markdown",
   "metadata": {},
   "source": [
    "## Beschreibung\n",
    "\n",
    "Es soll ein Bild aus dem HDR-VDP genommen werden und der Rotanteil in den Wertebereich 0 - 1 übertragen werden.\n",
    "Daraus wird ein Grayscale Bild erstellt, welches sich mit dem Output des CNN vergleichen lässt\n"
   ]
  },
  {
   "cell_type": "code",
   "execution_count": 97,
   "metadata": {},
   "outputs": [],
   "source": [
    "import numpy as np\n",
    "import cv2\n",
    "import os\n",
    "import matplotlib.pyplot as plt\n"
   ]
  },
  {
   "cell_type": "code",
   "execution_count": 98,
   "metadata": {},
   "outputs": [
    {
     "data": {
      "text/plain": [
       "<matplotlib.image.AxesImage at 0x24a4a8da850>"
      ]
     },
     "execution_count": 98,
     "metadata": {},
     "output_type": "execute_result"
    },
    {
     "data": {
      "image/png": "[encoded data removed]",
      "text/plain": [
       "<Figure size 432x288 with 1 Axes>"
      ]
     },
     "metadata": {
      "needs_background": "light"
     },
     "output_type": "display_data"
    }
   ],
   "source": [
    "FILE_PATH = \"D:\\Main\\MA_PROGR\\hdrvdp-3.0.6\"\n",
    "img_name = \"output_clean_vs_blur.png\"\n",
    "\n",
    "img = cv2.imread(f\"{FILE_PATH}\\{img_name}\")\n",
    "\n",
    "plt.imshow(img)\n"
   ]
  },
  {
   "cell_type": "code",
   "execution_count": 99,
   "metadata": {},
   "outputs": [
    {
     "data": {
      "text/plain": [
       "<matplotlib.image.AxesImage at 0x24a4a940880>"
      ]
     },
     "execution_count": 99,
     "metadata": {},
     "output_type": "execute_result"
    },
    {
     "data": {
      "image/png": "[encoded data removed]",
      "text/plain": [
       "<Figure size 432x288 with 1 Axes>"
      ]
     },
     "metadata": {
      "needs_background": "light"
     },
     "output_type": "display_data"
    }
   ],
   "source": [
    "img_r = img[:,:,2]\n",
    "plt.imshow(img_r, cmap=\"gray\")\n"
   ]
  },
  {
   "cell_type": "code",
   "execution_count": 100,
   "metadata": {},
   "outputs": [
    {
     "name": "stdout",
     "output_type": "stream",
     "text": [
      "[[97 97 96 ... 96 96 96]\n",
      " [97 96 96 ... 96 96 96]\n",
      " [96 96 96 ... 95 96 96]\n",
      " ...\n",
      " [96 96 95 ... 95 95 95]\n",
      " [96 96 96 ... 95 95 95]\n",
      " [96 96 96 ... 95 95 96]]\n"
     ]
    }
   ],
   "source": [
    "print(img_r)"
   ]
  },
  {
   "cell_type": "code",
   "execution_count": 101,
   "metadata": {},
   "outputs": [],
   "source": [
    "BUCKET_SIZE = 60\n",
    "size_y = img.shape[0]\n",
    "size_x = img.shape[1]\n",
    "\n",
    "steps_horizontal = int(size_x/BUCKET_SIZE)\n",
    "steps_vertikal = int(size_y/BUCKET_SIZE)\n"
   ]
  },
  {
   "cell_type": "code",
   "execution_count": 102,
   "metadata": {},
   "outputs": [],
   "source": [
    "\n",
    "vdp_values = np.full((steps_vertikal, steps_horizontal), 0).tolist()\n"
   ]
  },
  {
   "cell_type": "code",
   "execution_count": 103,
   "metadata": {},
   "outputs": [],
   "source": [
    "def create_tile(bucket_size, vdp_values):\n",
    "    myArray = np.zeros((BUCKET_SIZE, BUCKET_SIZE))\n",
    "    for y in range(bucket_size):\n",
    "        for x in range(bucket_size):\n",
    "            myArray[y][x] = vdp_values\n",
    "    return myArray\n"
   ]
  },
  {
   "cell_type": "code",
   "execution_count": 104,
   "metadata": {},
   "outputs": [
    {
     "data": {
      "text/plain": [
       "<function numpy.save(file, arr, allow_pickle=True, fix_imports=True)>"
      ]
     },
     "execution_count": 104,
     "metadata": {},
     "output_type": "execute_result"
    }
   ],
   "source": [
    "def mean_red_amount(bucket):\n",
    "    # print(\"betrete mean red: \")\n",
    "    sum = 0\n",
    "    for y in range(BUCKET_SIZE):\n",
    "        for x in range(BUCKET_SIZE):\n",
    "            sum += bucket[y, x]\n",
    "    return sum / (BUCKET_SIZE*BUCKET_SIZE)\n",
    "\n",
    "\n",
    "def create_2D_Matrix_from_HDRVDP_Image(img):\n",
    "    img_r = img[:,:,2] / 255\n",
    "    for y in range(int(steps_vertikal)):\n",
    "        for x in range(int(steps_horizontal)):\n",
    "            bucket = img_r[y*BUCKET_SIZE:(y+1)*BUCKET_SIZE, x *\n",
    "                         BUCKET_SIZE:(x+1)*BUCKET_SIZE]\n",
    "            tmp_res = mean_red_amount(bucket)\n",
    "            # return\n",
    "            vdp_values[y][x] = tmp_res\n",
    "    np_name = img_name.split(\".\")[0]\n",
    "    np.save(np_name, vdp_values)\n",
    "    return vdp_values\n",
    "\n",
    "create_2D_Matrix_from_HDRVDP_Image(img)\n",
    "\n",
    "\n",
    "np.save\n"
   ]
  },
  {
   "cell_type": "code",
   "execution_count": 105,
   "metadata": {},
   "outputs": [],
   "source": [
    "def create_grayscale_img(img):\n",
    "\n",
    "    horizontal_stripes = []\n",
    "    horizontal_result = 0\n",
    "    final_result = 0\n",
    "\n",
    "    vdp_values = create_2D_Matrix_from_HDRVDP_Image(img)\n",
    "\n",
    "    for y in range(int(steps_vertikal)):\n",
    "        for x in range(int(steps_horizontal)):\n",
    "            # print(\"x: {}\".format(x))\n",
    "            if x == 0:\n",
    "                horizontal_result = create_tile(\n",
    "                    BUCKET_SIZE, vdp_values[y][x])\n",
    "                plt.imshow(horizontal_result)\n",
    "                continue\n",
    "            horizontal_result = np.concatenate(\n",
    "                (horizontal_result, create_tile(BUCKET_SIZE, vdp_values[y][x])), axis=1)\n",
    "        if y == 0:\n",
    "            final_result = horizontal_result\n",
    "            continue\n",
    "        final_result = np.concatenate((final_result, horizontal_result))\n",
    "        horizontal_result = 0\n",
    "\n",
    "    return final_result\n",
    "\n",
    "    # plt.imshow(final_result, cmap=\"gray\")\n",
    "    # plt.show()\n"
   ]
  },
  {
   "cell_type": "code",
   "execution_count": 106,
   "metadata": {},
   "outputs": [
    {
     "data": {
      "image/png": "[encoded data removed]",
      "text/plain": [
       "<Figure size 432x288 with 1 Axes>"
      ]
     },
     "metadata": {
      "needs_background": "light"
     },
     "output_type": "display_data"
    }
   ],
   "source": [
    "grayscale_image = create_grayscale_img(img)\n",
    "plt.imshow(grayscale_image, cmap=\"gray\")\n",
    "plt.show()\n",
    "\n",
    "plt.imsave(\"example.png\",grayscale_image, cmap=\"gray\")\n",
    "\n"
   ]
  }
 ],
 "metadata": {
  "interpreter": {
   "hash": "58a31560c3222f73c24c0eab0b6d9933bfafc2a96159f6aca9b232102d0e6606"
  },
  "kernelspec": {
   "display_name": "Python 3.9.2 64-bit",
   "language": "python",
   "name": "python3"
  },
  "language_info": {
   "codemirror_mode": {
    "name": "ipython",
    "version": 3
   },
   "file_extension": ".py",
   "mimetype": "text/x-python",
   "name": "python",
   "nbconvert_exporter": "python",
   "pygments_lexer": "ipython3",
   "version": "3.9.2"
  },
  "orig_nbformat": 4
 },
 "nbformat": 4,
 "nbformat_minor": 2
}
